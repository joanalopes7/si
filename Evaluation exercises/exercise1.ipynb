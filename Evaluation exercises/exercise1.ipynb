{
 "cells": [
  {
   "cell_type": "markdown",
   "id": "618f97ec",
   "metadata": {
    "toc": true
   },
   "source": [
    "<h1>Table of Contents<span class=\"tocSkip\"></span></h1>\n",
    "<div class=\"toc\"><ul class=\"toc-item\"><li><span><a href=\"#NumPy-array-Indexing/Slicing\" data-toc-modified-id=\"NumPy-array-Indexing/Slicing-1\"><span class=\"toc-item-num\">1&nbsp;&nbsp;</span>NumPy array Indexing/Slicing</a></span></li></ul></div>"
   ]
  },
  {
   "cell_type": "code",
   "execution_count": 1,
   "id": "e69adb79",
   "metadata": {},
   "outputs": [],
   "source": [
    "import pandas as pd\n",
    "import numpy as np"
   ]
  },
  {
   "cell_type": "markdown",
   "id": "b95ffd4d",
   "metadata": {},
   "source": [
    "## NumPy array Indexing/Slicing"
   ]
  },
  {
   "cell_type": "markdown",
   "id": "b67f1e57",
   "metadata": {},
   "source": [
    "1.1) In this exercise, we will use the iris dataset. Load\n",
    "the \"iris.csv\" using the appropriate method for this file\n",
    "type (use the new functions from the package).\n"
   ]
  },
  {
   "cell_type": "code",
   "execution_count": 1,
   "id": "f7375ee8",
   "metadata": {},
   "outputs": [
    {
     "name": "stdout",
     "output_type": "stream",
     "text": [
      "\n",
      "\n"
     ]
    }
   ],
   "source": [
    "from si.io.csv_file import read_csv"
   ]
  },
  {
   "cell_type": "code",
   "execution_count": 2,
   "id": "34d93fe4",
   "metadata": {},
   "outputs": [],
   "source": [
    "filename= r'C:\\Users\\Asus\\Desktop\\MESTRADO BI 2324\\2ANO\\SIB\\portfólio\\si\\datasets\\iris\\iris.csv'  "
   ]
  },
  {
   "cell_type": "code",
   "execution_count": 3,
   "id": "4f445320",
   "metadata": {},
   "outputs": [],
   "source": [
    "iris_data = read_csv(filename, sep=\",\", features=True, label=True)"
   ]
  },
  {
   "cell_type": "code",
   "execution_count": 5,
   "id": "4df1d103",
   "metadata": {},
   "outputs": [
    {
     "name": "stdout",
     "output_type": "stream",
     "text": [
      "Index(['sepal_length', 'sepal_width', 'petal_length', 'petal_width'], dtype='object')\n",
      "class\n"
     ]
    }
   ],
   "source": [
    "features=iris_data.features\n",
    "print(features)\n",
    "label=iris_data.label\n",
    "print(label)"
   ]
  },
  {
   "cell_type": "markdown",
   "id": "2c57fcb5",
   "metadata": {},
   "source": [
    "1.2) Select the penultimate independent variable.\n",
    "What is the dimension of the resulting array?"
   ]
  },
  {
   "cell_type": "code",
   "execution_count": 14,
   "id": "5d442e34",
   "metadata": {},
   "outputs": [
    {
     "name": "stdout",
     "output_type": "stream",
     "text": [
      "Dimension of the array: (150,)\n"
     ]
    }
   ],
   "source": [
    "pn_var=iris_data.X[:,-2]\n",
    "print(\"Dimension of the array:\", pn_var.shape)"
   ]
  },
  {
   "cell_type": "code",
   "execution_count": 50,
   "id": "01b62c67",
   "metadata": {},
   "outputs": [
    {
     "name": "stdout",
     "output_type": "stream",
     "text": [
      "Dimension of the array: (150,)\n"
     ]
    }
   ],
   "source": [
    "#in case it is the penultimate of the independent variables (that is, the first 4 columns) and not the penultimate column that corresponds to the last independent variable in the array\n",
    "pn_var2=iris_data.X[:,-3]\n",
    "print(\"Dimension of the array:\", pn_var2.shape)"
   ]
  },
  {
   "cell_type": "markdown",
   "id": "40d5ebcb",
   "metadata": {},
   "source": [
    "1.3) Select the last 10 samples from the iris dataset.\n",
    "What is the mean of the last 10 samples for each\n",
    "independent variable/feature?"
   ]
  },
  {
   "cell_type": "code",
   "execution_count": 53,
   "id": "1066ed25",
   "metadata": {},
   "outputs": [],
   "source": [
    "last_ten=iris_data.X[-10:,0:4]"
   ]
  },
  {
   "cell_type": "code",
   "execution_count": 54,
   "id": "b22d627c",
   "metadata": {},
   "outputs": [
    {
     "name": "stdout",
     "output_type": "stream",
     "text": [
      "[[6.7 3.1 5.6 2.4]\n",
      " [6.9 3.1 5.1 2.3]\n",
      " [5.8 2.7 5.1 1.9]\n",
      " [6.8 3.2 5.9 2.3]\n",
      " [6.7 3.3 5.7 2.5]\n",
      " [6.7 3.0 5.2 2.3]\n",
      " [6.3 2.5 5.0 1.9]\n",
      " [6.5 3.0 5.2 2.0]\n",
      " [6.2 3.4 5.4 2.3]\n",
      " [5.9 3.0 5.1 1.8]]\n"
     ]
    }
   ],
   "source": [
    "print(last_ten)"
   ]
  },
  {
   "cell_type": "code",
   "execution_count": 52,
   "id": "706434c1",
   "metadata": {},
   "outputs": [
    {
     "name": "stdout",
     "output_type": "stream",
     "text": [
      "Last ten samples means by feature: [6.450000000000001 3.0300000000000002 5.33 2.1700000000000004]\n"
     ]
    }
   ],
   "source": [
    "mean_last_ten = np.mean(last_ten, axis=0)\n",
    "print(\"Last ten samples means by feature:\", mean_last_ten)  "
   ]
  },
  {
   "cell_type": "markdown",
   "id": "8b734b65",
   "metadata": {},
   "source": [
    "1.4) Select all samples from the dataset with values\n",
    "less than or equal to 6 for all independent\n",
    "variables/features. How many samples do you obtain?"
   ]
  },
  {
   "cell_type": "code",
   "execution_count": 55,
   "id": "90245700",
   "metadata": {},
   "outputs": [],
   "source": [
    "iris_data_ind=iris_data.X[:,:4]"
   ]
  },
  {
   "cell_type": "code",
   "execution_count": 56,
   "id": "8ee9f07e",
   "metadata": {},
   "outputs": [
    {
     "name": "stdout",
     "output_type": "stream",
     "text": [
      "Samples with values less than or equal to 6 for all independent variables/features: 89\n"
     ]
    }
   ],
   "source": [
    "mask = np.all(iris_data_ind <= 6, axis=1)\n",
    "filtered_samples = iris_data_ind[mask, :]\n",
    "print(\"Samples with values less than or equal to 6 for all independent variables/features:\", filtered_samples.shape[0])"
   ]
  },
  {
   "cell_type": "markdown",
   "id": "a0e0af77",
   "metadata": {},
   "source": [
    "1.5) Select all samples with a class/label different\n",
    "from 'Iris-setosa'. How many samples do you obtain?"
   ]
  },
  {
   "cell_type": "code",
   "execution_count": 57,
   "id": "98043d5f",
   "metadata": {},
   "outputs": [],
   "source": [
    "mask_dif=iris_data.X[:, -1] != 'Iris-setosa'"
   ]
  },
  {
   "cell_type": "code",
   "execution_count": 60,
   "id": "da564cee",
   "metadata": {},
   "outputs": [
    {
     "name": "stdout",
     "output_type": "stream",
     "text": [
      "Number of samples with a class different from «Iris-setosa»: 100\n"
     ]
    }
   ],
   "source": [
    "samples_dif=iris_data.X[mask_dif]\n",
    "print(\"Number of samples with a class different from «Iris-setosa»:\", samples_dif.shape[0])"
   ]
  }
 ],
 "metadata": {
  "kernelspec": {
   "display_name": "joanasib",
   "language": "python",
   "name": "python3"
  },
  "language_info": {
   "codemirror_mode": {
    "name": "ipython",
    "version": 3
   },
   "file_extension": ".py",
   "mimetype": "text/x-python",
   "name": "python",
   "nbconvert_exporter": "python",
   "pygments_lexer": "ipython3",
   "version": "3.11.7"
  },
  "toc": {
   "base_numbering": 1,
   "nav_menu": {},
   "number_sections": true,
   "sideBar": true,
   "skip_h1_title": false,
   "title_cell": "Table of Contents",
   "title_sidebar": "Contents",
   "toc_cell": true,
   "toc_position": {},
   "toc_section_display": true,
   "toc_window_display": false
  }
 },
 "nbformat": 4,
 "nbformat_minor": 5
}
