{
 "cells": [
  {
   "cell_type": "markdown",
   "id": "9240844b",
   "metadata": {
    "toc": true
   },
   "source": [
    "<h1>Table of Contents<span class=\"tocSkip\"></span></h1>\n",
    "<div class=\"toc\"><ul class=\"toc-item\"><li><span><a href=\"#Test-the-SelectPercentile-class\" data-toc-modified-id=\"Test-the-SelectPercentile-class-1\"><span class=\"toc-item-num\">1&nbsp;&nbsp;</span>Test the SelectPercentile class</a></span></li></ul></div>"
   ]
  },
  {
   "cell_type": "markdown",
   "id": "b9e0b95e",
   "metadata": {},
   "source": [
    "### Test the SelectPercentile class"
   ]
  },
  {
   "cell_type": "code",
   "execution_count": 2,
   "id": "9cb4093f",
   "metadata": {},
   "outputs": [],
   "source": [
    "from si.io.csv_file import read_csv\n",
    "filename= r'C:\\Users\\Asus\\Desktop\\MESTRADO BI 2324\\2ANO\\SIB\\portfólio\\si\\datasets\\iris\\iris.csv'  \n",
    "iris_data = read_csv(filename, sep=\",\", features=True, label=True)"
   ]
  },
  {
   "cell_type": "code",
   "execution_count": 3,
   "id": "6d0d5245",
   "metadata": {},
   "outputs": [
    {
     "name": "stdout",
     "output_type": "stream",
     "text": [
      "Index(['sepal_length', 'sepal_width', 'petal_length', 'petal_width'], dtype='object')\n",
      "class\n"
     ]
    }
   ],
   "source": [
    "features=iris_data.features\n",
    "print(features)\n",
    "label=iris_data.label\n",
    "print(label)"
   ]
  },
  {
   "cell_type": "code",
   "execution_count": 5,
   "id": "842e11db",
   "metadata": {},
   "outputs": [
    {
     "name": "stdout",
     "output_type": "stream",
     "text": [
      "Selected features: ['petal_width', 'petal_length']\n",
      "Shape of transformed dataset: (150, 2)\n"
     ]
    }
   ],
   "source": [
    "from typing import Callable\n",
    "\n",
    "import numpy as np\n",
    "from si.data.dataset import Dataset\n",
    "from si.feature_selection.select_percentile import SelectPercentile\n",
    "\n",
    "X = iris_data.X  \n",
    "y = iris_data.y  \n",
    "features = iris_data.features\n",
    "\n",
    "iris_dataset = Dataset(X=X, y=y, features=features, label='class')\n",
    "\n",
    "selector = SelectPercentile(percentile=50)\n",
    "selector._fit(iris_dataset)\n",
    "transformed_dataset = selector._transform(iris_dataset)\n",
    "\n",
    "\n",
    "print(\"Selected features:\", transformed_dataset.features)\n",
    "print(\"Shape of transformed dataset:\", transformed_dataset.X.shape)"
   ]
  },
  {
   "cell_type": "code",
   "execution_count": null,
   "id": "1bb25a04",
   "metadata": {},
   "outputs": [],
   "source": []
  }
 ],
 "metadata": {
  "kernelspec": {
   "display_name": "joanasib",
   "language": "python",
   "name": "python3"
  },
  "language_info": {
   "codemirror_mode": {
    "name": "ipython",
    "version": 3
   },
   "file_extension": ".py",
   "mimetype": "text/x-python",
   "name": "python",
   "nbconvert_exporter": "python",
   "pygments_lexer": "ipython3",
   "version": "3.11.7"
  },
  "toc": {
   "base_numbering": 1,
   "nav_menu": {},
   "number_sections": true,
   "sideBar": true,
   "skip_h1_title": false,
   "title_cell": "Table of Contents",
   "title_sidebar": "Contents",
   "toc_cell": true,
   "toc_position": {},
   "toc_section_display": true,
   "toc_window_display": false
  }
 },
 "nbformat": 4,
 "nbformat_minor": 5
}
