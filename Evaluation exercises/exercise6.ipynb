{
 "cells": [
  {
   "cell_type": "markdown",
   "metadata": {
    "toc": true
   },
   "source": [
    "<h1>Table of Contents<span class=\"tocSkip\"></span></h1>\n",
    "<div class=\"toc\"><ul class=\"toc-item\"><li><span><a href=\"#Implementing-stratified-splitting\" data-toc-modified-id=\"Implementing-stratified-splitting-1\"><span class=\"toc-item-num\">1&nbsp;&nbsp;</span>Implementing stratified splitting</a></span></li></ul></div>"
   ]
  },
  {
   "cell_type": "markdown",
   "metadata": {},
   "source": [
    "## Implementing stratified splitting"
   ]
  },
  {
   "cell_type": "code",
   "execution_count": 4,
   "metadata": {},
   "outputs": [],
   "source": [
    "from si.io.csv_file import read_csv\n",
    "filename= r'C:\\Users\\Asus\\Desktop\\MESTRADO BI 2324\\2ANO\\SIB\\portfólio\\si\\datasets\\iris\\iris.csv'  \n",
    "iris_data = read_csv(filename, sep=\",\", features=True, label=True)"
   ]
  },
  {
   "cell_type": "code",
   "execution_count": 5,
   "metadata": {},
   "outputs": [],
   "source": [
    "import numpy as np\n",
    "from si.model_selection.split import stratified_train_test_split"
   ]
  },
  {
   "cell_type": "code",
   "execution_count": 6,
   "metadata": {},
   "outputs": [
    {
     "name": "stdout",
     "output_type": "stream",
     "text": [
      "Class distribution in the original dataset:\n",
      "Class Iris-setosa: 50 samples\n",
      "Class Iris-versicolor: 50 samples\n",
      "Class Iris-virginica: 50 samples\n"
     ]
    }
   ],
   "source": [
    "unique_labels, counts = np.unique(iris_data.y, return_counts=True)\n",
    "print(\"Class distribution in the original dataset:\")\n",
    "for label, count in zip(unique_labels, counts):\n",
    "    print(f\"Class {label}: {count} samples\")"
   ]
  },
  {
   "cell_type": "code",
   "execution_count": 8,
   "metadata": {},
   "outputs": [
    {
     "name": "stdout",
     "output_type": "stream",
     "text": [
      "Train set size: 120\n",
      "Test set size: 30\n",
      "Train set class distribution: {'Iris-setosa': np.int64(40), 'Iris-versicolor': np.int64(40), 'Iris-virginica': np.int64(40)}\n",
      "Test set class distribution: {'Iris-setosa': np.int64(10), 'Iris-versicolor': np.int64(10), 'Iris-virginica': np.int64(10)}\n"
     ]
    }
   ],
   "source": [
    "train_dataset, test_dataset = stratified_train_test_split(iris_data, test_size=0.2, random_state=123)\n",
    "\n",
    "\n",
    "print(\"Train set size:\", train_dataset.shape()[0])\n",
    "print(\"Test set size:\", test_dataset.shape()[0])\n",
    "\n",
    "\n",
    "unique_train, counts_train = np.unique(train_dataset.y, return_counts=True)\n",
    "unique_test, counts_test = np.unique(test_dataset.y, return_counts=True)\n",
    "print(\"Train set class distribution:\", dict(zip(unique_train, counts_train)))\n",
    "print(\"Test set class distribution:\", dict(zip(unique_test, counts_test)))"
   ]
  },
  {
   "cell_type": "code",
   "execution_count": null,
   "metadata": {},
   "outputs": [],
   "source": []
  }
 ],
 "metadata": {
  "kernelspec": {
   "display_name": "joanasib",
   "language": "python",
   "name": "python3"
  },
  "language_info": {
   "codemirror_mode": {
    "name": "ipython",
    "version": 3
   },
   "file_extension": ".py",
   "mimetype": "text/x-python",
   "name": "python",
   "nbconvert_exporter": "python",
   "pygments_lexer": "ipython3",
   "version": "3.11.7"
  },
  "toc": {
   "base_numbering": 1,
   "nav_menu": {},
   "number_sections": true,
   "sideBar": true,
   "skip_h1_title": false,
   "title_cell": "Table of Contents",
   "title_sidebar": "Contents",
   "toc_cell": true,
   "toc_position": {},
   "toc_section_display": true,
   "toc_window_display": false
  }
 },
 "nbformat": 4,
 "nbformat_minor": 2
}
