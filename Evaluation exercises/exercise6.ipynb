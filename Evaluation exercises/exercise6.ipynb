{
 "cells": [
  {
   "cell_type": "markdown",
   "metadata": {},
   "source": [
    "## Implementing stratified splitting"
   ]
  },
  {
   "cell_type": "code",
   "execution_count": null,
   "metadata": {},
   "outputs": [],
   "source": [
    "from si.io.csv_file import read_csv\n",
    "filename= r'C:\\Users\\Asus\\Desktop\\MESTRADO BI 2324\\2ANO\\SIB\\portfólio\\si\\datasets\\iris\\iris.csv'  \n",
    "iris_data = read_csv(filename, sep=\",\", features=True, label=True)"
   ]
  },
  {
   "cell_type": "code",
   "execution_count": 3,
   "metadata": {},
   "outputs": [],
   "source": [
    "import numpy as np\n",
    "from si.data.dataset import Dataset\n",
    "from si.model_selection.split import stratified_train_test_split"
   ]
  },
  {
   "cell_type": "code",
   "execution_count": 4,
   "metadata": {},
   "outputs": [],
   "source": [
    "X = iris_data.X  \n",
    "y = iris_data.y  \n",
    "features = iris_data.features\n",
    "\n",
    "iris_dataset = Dataset(X=X, y=y, features=features, label='class')"
   ]
  },
  {
   "cell_type": "code",
   "execution_count": 10,
   "metadata": {},
   "outputs": [
    {
     "name": "stdout",
     "output_type": "stream",
     "text": [
      "Class distribution in the original dataset:\n",
      "Class Iris-setosa: 50 samples\n",
      "Class Iris-versicolor: 50 samples\n",
      "Class Iris-virginica: 50 samples\n"
     ]
    }
   ],
   "source": [
    "unique_labels, counts = np.unique(iris_dataset.y, return_counts=True)\n",
    "print(\"Class distribution in the original dataset:\")\n",
    "for label, count in zip(unique_labels, counts):\n",
    "    print(f\"Class {label}: {count} samples\")"
   ]
  },
  {
   "cell_type": "code",
   "execution_count": null,
   "metadata": {},
   "outputs": [
    {
     "name": "stdout",
     "output_type": "stream",
     "text": [
      "Train set size: 120\n",
      "Test set size: 30\n",
      "Train set class distribution: {'Iris-setosa': np.int64(40), 'Iris-versicolor': np.int64(40), 'Iris-virginica': np.int64(40)}\n",
      "Test set class distribution: {'Iris-setosa': np.int64(10), 'Iris-versicolor': np.int64(10), 'Iris-virginica': np.int64(10)}\n"
     ]
    }
   ],
   "source": [
    "train_dataset, test_dataset = stratified_train_test_split(iris_dataset, test_size=0.2, random_state=123)\n",
    "\n",
    "\n",
    "print(\"Train set size:\", train_dataset.shape()[0])\n",
    "print(\"Test set size:\", test_dataset.shape()[0])\n",
    "\n",
    "\n",
    "unique_train, counts_train = np.unique(train_dataset.y, return_counts=True)\n",
    "unique_test, counts_test = np.unique(test_dataset.y, return_counts=True)\n",
    "print(\"Train set class distribution:\", dict(zip(unique_train, counts_train)))\n",
    "print(\"Test set class distribution:\", dict(zip(unique_test, counts_test)))"
   ]
  }
 ],
 "metadata": {
  "kernelspec": {
   "display_name": "joanasib",
   "language": "python",
   "name": "python3"
  },
  "language_info": {
   "codemirror_mode": {
    "name": "ipython",
    "version": 3
   },
   "file_extension": ".py",
   "mimetype": "text/x-python",
   "name": "python",
   "nbconvert_exporter": "python",
   "pygments_lexer": "ipython3",
   "version": "3.11.7"
  }
 },
 "nbformat": 4,
 "nbformat_minor": 2
}
