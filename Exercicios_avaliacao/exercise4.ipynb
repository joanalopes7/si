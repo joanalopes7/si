{
 "cells": [
  {
   "cell_type": "markdown",
   "id": "87255d7c",
   "metadata": {
    "toc": true
   },
   "source": [
    "<h1>Table of Contents<span class=\"tocSkip\"></span></h1>\n",
    "<div class=\"toc\"><ul class=\"toc-item\"><li><span><a href=\"#Implement-the-Cosine-distance-in-a-module-called-&quot;cosine_distance.py&quot;-in-the-sub-package-&quot;statistics&quot;.\" data-toc-modified-id=\"Implement-the-Cosine-distance-in-a-module-called-&quot;cosine_distance.py&quot;-in-the-sub-package-&quot;statistics&quot;.-1\"><span class=\"toc-item-num\">1&nbsp;&nbsp;</span>Implement the Cosine distance in a module called \"cosine_distance.py\" in the sub-package \"statistics\".</a></span></li></ul></div>"
   ]
  },
  {
   "cell_type": "markdown",
   "id": "2213438e",
   "metadata": {},
   "source": [
    "## Implement the Cosine distance in a module called \"cosine_distance.py\" in the sub-package \"statistics\"."
   ]
  },
  {
   "cell_type": "code",
   "execution_count": null,
   "id": "cb394207",
   "metadata": {},
   "outputs": [],
   "source": [
    "##statistics.cosine_distance.py"
   ]
  }
 ],
 "metadata": {
  "kernelspec": {
   "display_name": "Python 3 (ipykernel)",
   "language": "python",
   "name": "python3"
  },
  "language_info": {
   "codemirror_mode": {
    "name": "ipython",
    "version": 3
   },
   "file_extension": ".py",
   "mimetype": "text/x-python",
   "name": "python",
   "nbconvert_exporter": "python",
   "pygments_lexer": "ipython3",
   "version": "3.11.7"
  },
  "toc": {
   "base_numbering": 1,
   "nav_menu": {},
   "number_sections": true,
   "sideBar": true,
   "skip_h1_title": false,
   "title_cell": "Table of Contents",
   "title_sidebar": "Contents",
   "toc_cell": true,
   "toc_position": {},
   "toc_section_display": true,
   "toc_window_display": false
  }
 },
 "nbformat": 4,
 "nbformat_minor": 5
}
