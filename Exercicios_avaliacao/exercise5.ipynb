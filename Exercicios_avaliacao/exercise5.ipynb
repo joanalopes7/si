{
 "cells": [
  {
   "cell_type": "markdown",
   "id": "3e46ffb6",
   "metadata": {
    "toc": true
   },
   "source": [
    "<h1>Table of Contents<span class=\"tocSkip\"></span></h1>\n",
    "<div class=\"toc\"><ul class=\"toc-item\"><li><span><a href=\"#Implement-the-PCA-Class\" data-toc-modified-id=\"Implement-the-PCA-Class-1\"><span class=\"toc-item-num\">1&nbsp;&nbsp;</span>Implement the PCA Class</a></span><ul class=\"toc-item\"><li><span><a href=\"#Add-the-&quot;PCA&quot;-class-in-the-&quot;pca.py&quot;-module-on-the-&quot;decomposition&quot;-sub-package.-Consider-the-PCA-class-structure-presented-in-the-next-slide.\" data-toc-modified-id=\"Add-the-&quot;PCA&quot;-class-in-the-&quot;pca.py&quot;-module-on-the-&quot;decomposition&quot;-sub-package.-Consider-the-PCA-class-structure-presented-in-the-next-slide.-1.1\"><span class=\"toc-item-num\">1.1&nbsp;&nbsp;</span>Add the \"PCA\" class in the \"pca.py\" module on the \"decomposition\" sub-package. Consider the PCA class structure presented in the next slide.</a></span></li><li><span><a href=\"#Test-the-PCA-class-in-a-jupyter-notebook-using-the-iris.csv-dataset-(classificação).\" data-toc-modified-id=\"Test-the-PCA-class-in-a-jupyter-notebook-using-the-iris.csv-dataset-(classificação).-1.2\"><span class=\"toc-item-num\">1.2&nbsp;&nbsp;</span>Test the PCA class in a jupyter notebook using the iris.csv dataset (classificação).</a></span></li></ul></li></ul></div>"
   ]
  },
  {
   "cell_type": "markdown",
   "id": "85e60156",
   "metadata": {},
   "source": [
    "## Implement the PCA Class"
   ]
  },
  {
   "cell_type": "markdown",
   "id": "d64950b1",
   "metadata": {},
   "source": [
    "### Add the \"PCA\" class in the \"pca.py\" module on the \"decomposition\" sub-package. Consider the PCA class structure presented in the next slide."
   ]
  },
  {
   "cell_type": "markdown",
   "id": "474e91a1",
   "metadata": {},
   "source": [
    "### Test the PCA class in a jupyter notebook using the iris.csv dataset (classificação)."
   ]
  },
  {
   "cell_type": "code",
   "execution_count": null,
   "id": "9cb07476",
   "metadata": {},
   "outputs": [],
   "source": []
  }
 ],
 "metadata": {
  "kernelspec": {
   "display_name": "Python 3 (ipykernel)",
   "language": "python",
   "name": "python3"
  },
  "language_info": {
   "codemirror_mode": {
    "name": "ipython",
    "version": 3
   },
   "file_extension": ".py",
   "mimetype": "text/x-python",
   "name": "python",
   "nbconvert_exporter": "python",
   "pygments_lexer": "ipython3",
   "version": "3.11.7"
  },
  "toc": {
   "base_numbering": 1,
   "nav_menu": {},
   "number_sections": true,
   "sideBar": true,
   "skip_h1_title": false,
   "title_cell": "Table of Contents",
   "title_sidebar": "Contents",
   "toc_cell": true,
   "toc_position": {},
   "toc_section_display": true,
   "toc_window_display": false
  }
 },
 "nbformat": 4,
 "nbformat_minor": 5
}
