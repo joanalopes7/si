{
 "cells": [
  {
   "cell_type": "markdown",
   "id": "f3985a42",
   "metadata": {
    "toc": true
   },
   "source": [
    "<h1>Table of Contents<span class=\"tocSkip\"></span></h1>\n",
    "<div class=\"toc\"><ul class=\"toc-item\"><li><span><a href=\"#NumPy-array-Indexing/Slicing\" data-toc-modified-id=\"NumPy-array-Indexing/Slicing-1\"><span class=\"toc-item-num\">1&nbsp;&nbsp;</span>NumPy array Indexing/Slicing</a></span><ul class=\"toc-item\"><li><span><a href=\"#Add-a-method-to-the-Dataset-class-that-removes-all-samples-containing-at-least-one-null-value-(NaN).-Note-that-the-resulting-object-should-not-contain-null-values-in-any-independent-feature/variable.-Also,-note-that-you-should-update-the-y-vector-by-removing-entries-associated-with-the-samples-to-be-removed.-You-should-use-only-NumPy-functions.\" data-toc-modified-id=\"Add-a-method-to-the-Dataset-class-that-removes-all-samples-containing-at-least-one-null-value-(NaN).-Note-that-the-resulting-object-should-not-contain-null-values-in-any-independent-feature/variable.-Also,-note-that-you-should-update-the-y-vector-by-removing-entries-associated-with-the-samples-to-be-removed.-You-should-use-only-NumPy-functions.-1.1\"><span class=\"toc-item-num\">1.1&nbsp;&nbsp;</span>Add a method to the Dataset class that removes all samples containing at least one null value (NaN). Note that the resulting object should not contain null values in any independent feature/variable. Also, note that you should update the y vector by removing entries associated with the samples to be removed. You should use only NumPy functions.</a></span></li><li><span><a href=\"#Add-a-method-to-the-Dataset-class-that-replaces-all-null-values-with-another-value-or-the-mean-or-median-of-the-feature/variable.-Note-that-the-resulting-object-should-not-contain-null-values-in-any-independent-feature/variable.-You-should-use-only-NumPy-functions.\" data-toc-modified-id=\"Add-a-method-to-the-Dataset-class-that-replaces-all-null-values-with-another-value-or-the-mean-or-median-of-the-feature/variable.-Note-that-the-resulting-object-should-not-contain-null-values-in-any-independent-feature/variable.-You-should-use-only-NumPy-functions.-1.2\"><span class=\"toc-item-num\">1.2&nbsp;&nbsp;</span>Add a method to the Dataset class that replaces all null values with another value or the mean or median of the feature/variable. Note that the resulting object should not contain null values in any independent feature/variable. You should use only NumPy functions.</a></span></li><li><span><a href=\"#Add-a-method-to-the-Dataset-class-that-removes-a-sample-by-its-index.-Note-that-you-should-also-update-the-y-vector-by-removing-the-entry-associated-with-the-sample-to-be-removed.-You-should-use-only-NumPy-functions.\" data-toc-modified-id=\"Add-a-method-to-the-Dataset-class-that-removes-a-sample-by-its-index.-Note-that-you-should-also-update-the-y-vector-by-removing-the-entry-associated-with-the-sample-to-be-removed.-You-should-use-only-NumPy-functions.-1.3\"><span class=\"toc-item-num\">1.3&nbsp;&nbsp;</span>Add a method to the Dataset class that removes a sample by its index. Note that you should also update the y vector by removing the entry associated with the sample to be removed. You should use only NumPy functions.</a></span></li></ul></li></ul></div>"
   ]
  },
  {
   "cell_type": "markdown",
   "id": "7cca68eb",
   "metadata": {},
   "source": [
    "## NumPy array Indexing/Slicing"
   ]
  },
  {
   "cell_type": "markdown",
   "id": "33630264",
   "metadata": {},
   "source": [
    "### Add a method to the Dataset class that removes all samples containing at least one null value (NaN). Note that the resulting object should not contain null values in any independent feature/variable. Also, note that you should update the y vector by removing entries associated with the samples to be removed. You should use only NumPy functions. \n",
    "Method name: dropna"
   ]
  },
  {
   "cell_type": "markdown",
   "id": "fc66c1f8",
   "metadata": {},
   "source": [
    "### Add a method to the Dataset class that replaces all null values with another value or the mean or median of the feature/variable. Note that the resulting object should not contain null values in any independent feature/variable. You should use only NumPy functions.\n",
    "Method name: fillna"
   ]
  },
  {
   "cell_type": "markdown",
   "id": "e8071186",
   "metadata": {},
   "source": [
    "### Add a method to the Dataset class that removes a sample by its index. Note that you should also update the y vector by removing the entry associated with the sample to be removed. You should use only NumPy functions.\n",
    "Method name: remove_by_index"
   ]
  },
  {
   "cell_type": "code",
   "execution_count": null,
   "id": "ce822530",
   "metadata": {},
   "outputs": [],
   "source": []
  }
 ],
 "metadata": {
  "kernelspec": {
   "display_name": "Python 3 (ipykernel)",
   "language": "python",
   "name": "python3"
  },
  "language_info": {
   "codemirror_mode": {
    "name": "ipython",
    "version": 3
   },
   "file_extension": ".py",
   "mimetype": "text/x-python",
   "name": "python",
   "nbconvert_exporter": "python",
   "pygments_lexer": "ipython3",
   "version": "3.11.7"
  },
  "toc": {
   "base_numbering": 1,
   "nav_menu": {},
   "number_sections": true,
   "sideBar": true,
   "skip_h1_title": false,
   "title_cell": "Table of Contents",
   "title_sidebar": "Contents",
   "toc_cell": true,
   "toc_position": {},
   "toc_section_display": true,
   "toc_window_display": false
  }
 },
 "nbformat": 4,
 "nbformat_minor": 5
}
