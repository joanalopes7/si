{
 "cells": [
  {
   "cell_type": "markdown",
   "id": "d72b5645",
   "metadata": {
    "toc": true
   },
   "source": [
    "<h1>Table of Contents<span class=\"tocSkip\"></span></h1>\n",
    "<div class=\"toc\"><ul class=\"toc-item\"><li><span><a href=\"#Implementing-SelectPercentile\" data-toc-modified-id=\"Implementing-SelectPercentile-1\"><span class=\"toc-item-num\">1&nbsp;&nbsp;</span>Implementing SelectPercentile</a></span><ul class=\"toc-item\"><li><span><a href=\"#Add-the-SelectPercentile-object-to-the-feature_selection-sub-package.-You-should-create-a-module-called-&quot;select_percentile.py&quot;-to-implement-this-object.-The-SelectPercentile-class-has-a-similar-architecture-to-the-SelectKBest-class.-Consider-the-structure-presented-in-the-next-slide.\" data-toc-modified-id=\"Add-the-SelectPercentile-object-to-the-feature_selection-sub-package.-You-should-create-a-module-called-&quot;select_percentile.py&quot;-to-implement-this-object.-The-SelectPercentile-class-has-a-similar-architecture-to-the-SelectKBest-class.-Consider-the-structure-presented-in-the-next-slide.-1.1\"><span class=\"toc-item-num\">1.1&nbsp;&nbsp;</span>Add the SelectPercentile object to the feature_selection sub-package. You should create a module called \"select_percentile.py\" to implement this object. The SelectPercentile class has a similar architecture to the SelectKBest class. Consider the structure presented in the next slide.</a></span></li><li><span><a href=\"#Test-the-SelectPercentile-class-in-a-Jupyter-notebook-using-the-&quot;iris.csv&quot;-dataset-(classification).\" data-toc-modified-id=\"Test-the-SelectPercentile-class-in-a-Jupyter-notebook-using-the-&quot;iris.csv&quot;-dataset-(classification).-1.2\"><span class=\"toc-item-num\">1.2&nbsp;&nbsp;</span>Test the SelectPercentile class in a Jupyter notebook using the \"iris.csv\" dataset (classification).</a></span></li></ul></li></ul></div>"
   ]
  },
  {
   "cell_type": "markdown",
   "id": "422ef3f7",
   "metadata": {},
   "source": [
    "## Implementing SelectPercentile"
   ]
  },
  {
   "cell_type": "markdown",
   "id": "e4ca9f0d",
   "metadata": {},
   "source": [
    "### Add the SelectPercentile object to the feature_selection sub-package. You should create a module called \"select_percentile.py\" to implement this object. The SelectPercentile class has a similar architecture to the SelectKBest class. Consider the structure presented in the next slide."
   ]
  },
  {
   "cell_type": "markdown",
   "id": "b9e0b95e",
   "metadata": {},
   "source": [
    "### Test the SelectPercentile class in a Jupyter notebook using the \"iris.csv\" dataset (classification)."
   ]
  },
  {
   "cell_type": "code",
   "execution_count": null,
   "id": "9cb4093f",
   "metadata": {},
   "outputs": [],
   "source": []
  }
 ],
 "metadata": {
  "kernelspec": {
   "display_name": "Python 3 (ipykernel)",
   "language": "python",
   "name": "python3"
  },
  "language_info": {
   "codemirror_mode": {
    "name": "ipython",
    "version": 3
   },
   "file_extension": ".py",
   "mimetype": "text/x-python",
   "name": "python",
   "nbconvert_exporter": "python",
   "pygments_lexer": "ipython3",
   "version": "3.11.7"
  },
  "toc": {
   "base_numbering": 1,
   "nav_menu": {},
   "number_sections": true,
   "sideBar": true,
   "skip_h1_title": false,
   "title_cell": "Table of Contents",
   "title_sidebar": "Contents",
   "toc_cell": true,
   "toc_position": {},
   "toc_section_display": true,
   "toc_window_display": false
  }
 },
 "nbformat": 4,
 "nbformat_minor": 5
}
